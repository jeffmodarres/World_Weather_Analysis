{
 "cells": [
  {
   "cell_type": "code",
   "execution_count": 1,
   "id": "796bf2b7",
   "metadata": {},
   "outputs": [],
   "source": [
    "import random\n"
   ]
  },
  {
   "cell_type": "code",
   "execution_count": 2,
   "id": "2be42f73",
   "metadata": {},
   "outputs": [
    {
     "data": {
      "text/plain": [
       "0.7709281692798987"
      ]
     },
     "execution_count": 2,
     "metadata": {},
     "output_type": "execute_result"
    }
   ],
   "source": [
    "random.random()"
   ]
  },
  {
   "cell_type": "code",
   "execution_count": 22,
   "id": "87739433",
   "metadata": {},
   "outputs": [
    {
     "data": {
      "text/plain": [
       "5"
      ]
     },
     "execution_count": 22,
     "metadata": {},
     "output_type": "execute_result"
    }
   ],
   "source": [
    "random.randint(-10,10)"
   ]
  },
  {
   "cell_type": "code",
   "execution_count": 119,
   "id": "0a2a855a",
   "metadata": {},
   "outputs": [
    {
     "data": {
      "text/plain": [
       "2"
      ]
     },
     "execution_count": 119,
     "metadata": {},
     "output_type": "execute_result"
    }
   ],
   "source": [
    "random.randrange(-8,8,2)"
   ]
  },
  {
   "cell_type": "code",
   "execution_count": 149,
   "id": "5095ec55",
   "metadata": {},
   "outputs": [
    {
     "data": {
      "text/plain": [
       "6.458896503538263"
      ]
     },
     "execution_count": 149,
     "metadata": {},
     "output_type": "execute_result"
    }
   ],
   "source": [
    "random.uniform(-10,10)"
   ]
  },
  {
   "cell_type": "code",
   "execution_count": 151,
   "id": "9aa48c25",
   "metadata": {},
   "outputs": [
    {
     "data": {
      "text/plain": [
       "[83.27742867696577,\n",
       " 87.17104086335623,\n",
       " 52.87293972114368,\n",
       " -1.2343520435840887,\n",
       " -25.492484450338296,\n",
       " -27.343795148427617,\n",
       " -10.425651464077886,\n",
       " 87.18392761949055,\n",
       " -62.07497916686797,\n",
       " -86.89704450875406]"
      ]
     },
     "execution_count": 151,
     "metadata": {},
     "output_type": "execute_result"
    }
   ],
   "source": [
    "x = 1\n",
    "latitudes = []\n",
    "while x < 11:\n",
    "    random_lat = random.randint(-90, 89) + random.random()\n",
    "    latitudes.append(random_lat)\n",
    "    x += 1\n",
    "latitudes\n"
   ]
  },
  {
   "cell_type": "code",
   "execution_count": 152,
   "id": "a01db532",
   "metadata": {},
   "outputs": [],
   "source": [
    "# Import the NumPy module.\n",
    "import numpy as np"
   ]
  },
  {
   "cell_type": "code",
   "execution_count": 154,
   "id": "7bfc8e2f",
   "metadata": {},
   "outputs": [
    {
     "data": {
      "text/plain": [
       "array([-81.17914623,  58.36029798, -34.03486297, -89.99625338,\n",
       "       -23.44765937,  -9.83366708, -17.80450881,  70.7619142 ,\n",
       "        27.28085308,  32.75442386,  28.95161634,  32.89916816,\n",
       "        23.75835729, -39.80066875,  84.21100517,  -3.12563171,\n",
       "        66.64194761, -89.31837909,  63.90399849,  70.71471647,\n",
       "       -66.98779717, -54.21828251, -30.72587157, -37.76824578,\n",
       "       -25.03407852,   4.89514582,  15.33408723, -22.4863837 ,\n",
       "       -35.60828707,  57.10190225,  31.22372205,  70.38556179,\n",
       "        48.70236923,  17.15662015,  -5.58686255,  19.03883316,\n",
       "        38.48452488, -30.99814687,  38.50824383,  22.33158809,\n",
       "       -23.36475504,  35.7157034 ,  49.04690069,  10.7389867 ,\n",
       "        -9.93730351, -22.44701105,  37.35639489,   1.71458426,\n",
       "       -75.32889138, -57.19318236])"
      ]
     },
     "execution_count": 154,
     "metadata": {},
     "output_type": "execute_result"
    }
   ],
   "source": [
    "np.random.uniform(-90.0,90,size=50)"
   ]
  },
  {
   "cell_type": "code",
   "execution_count": 155,
   "id": "c1d0f710",
   "metadata": {},
   "outputs": [],
   "source": [
    "# Import timeit.\n",
    "import timeit"
   ]
  },
  {
   "cell_type": "code",
   "execution_count": 157,
   "id": "3f3e41dc",
   "metadata": {},
   "outputs": [
    {
     "name": "stdout",
     "output_type": "stream",
     "text": [
      "14.5 µs ± 981 ns per loop (mean ± std. dev. of 7 runs, 100000 loops each)\n"
     ]
    }
   ],
   "source": [
    "%timeit np.random.uniform(-90.000, 90.000, size=1500)"
   ]
  },
  {
   "cell_type": "code",
   "execution_count": 158,
   "id": "cc945b54",
   "metadata": {},
   "outputs": [
    {
     "name": "stdout",
     "output_type": "stream",
     "text": [
      "1.58 ms ± 24.9 µs per loop (mean ± std. dev. of 7 runs, 1000 loops each)\n"
     ]
    }
   ],
   "source": [
    "def latitudes(size):\n",
    "    latitudes = []\n",
    "    x = 0\n",
    "    while x < (size):\n",
    "        random_lat = random.randint(-90, 90) + random.random()\n",
    "        latitudes.append(random_lat)\n",
    "        x += 1\n",
    "    return latitudes\n",
    "# Call the function with 1500.\n",
    "%timeit latitudes(1500)"
   ]
  },
  {
   "cell_type": "code",
   "execution_count": 164,
   "id": "df7cba98",
   "metadata": {},
   "outputs": [
    {
     "name": "stdout",
     "output_type": "stream",
     "text": [
      "1.69 ms ± 100 µs per loop (mean ± std. dev. of 7 runs, 1000 loops each)\n"
     ]
    }
   ],
   "source": [
    "def latitudes1(size):\n",
    "    latitudes = []\n",
    "    x = 0\n",
    "    for x in np.arange(0,size):\n",
    "        random_lat = random.randint(-90, 90) + random.random()\n",
    "        latitudes.append(random_lat)        \n",
    "    return latitudes\n",
    "# Call the function with 1500.\n",
    "%timeit latitudes1(1500)"
   ]
  },
  {
   "cell_type": "code",
   "execution_count": 162,
   "id": "90d71d42",
   "metadata": {},
   "outputs": [
    {
     "data": {
      "text/plain": [
       "array([0, 1, 2, 3, 4, 5, 6, 7, 8, 9])"
      ]
     },
     "execution_count": 162,
     "metadata": {},
     "output_type": "execute_result"
    }
   ],
   "source": [
    "np.arange(0,10,1)"
   ]
  }
 ],
 "metadata": {
  "kernelspec": {
   "display_name": "PythonData",
   "language": "python",
   "name": "pythondata"
  },
  "language_info": {
   "codemirror_mode": {
    "name": "ipython",
    "version": 3
   },
   "file_extension": ".py",
   "mimetype": "text/x-python",
   "name": "python",
   "nbconvert_exporter": "python",
   "pygments_lexer": "ipython3",
   "version": "3.7.11"
  }
 },
 "nbformat": 4,
 "nbformat_minor": 5
}
