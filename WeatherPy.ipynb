{
 "cells": [
  {
   "cell_type": "code",
   "execution_count": 163,
   "id": "2e736587",
   "metadata": {},
   "outputs": [],
   "source": [
    "# Import the dependencies.\n",
    "import pandas as pd\n",
    "import matplotlib.pyplot as plt\n",
    "import numpy as np\n",
    "# Import the requests library.\n",
    "import requests\n",
    "# Import the API key.\n",
    "from config1 import weather_api_key"
   ]
  },
  {
   "cell_type": "code",
   "execution_count": 164,
   "id": "917b8f53",
   "metadata": {},
   "outputs": [
    {
     "data": {
      "text/plain": [
       "<zip at 0x1db8b686f48>"
      ]
     },
     "execution_count": 164,
     "metadata": {},
     "output_type": "execute_result"
    }
   ],
   "source": [
    "# Create a set of random latitude and longitude combinations.\n",
    "lats = np.random.uniform(low=-90.000, high=90.000, size=100)\n",
    "lngs = np.random.uniform(low=-180.000, high=180.000, size=100)\n",
    "lat_lngs = zip(lats, lngs)\n",
    "lat_lngs"
   ]
  },
  {
   "cell_type": "code",
   "execution_count": 165,
   "id": "e809bda9",
   "metadata": {},
   "outputs": [],
   "source": [
    "# Create a practice set of random latitude and longitude combinations.\n",
    "x = [25.12903645, 25.92017388, 26.62509167, -59.98969384, 37.30571269]\n",
    "y = [-67.59741259, 11.09532135, 74.84233102, -76.89176677, -61.13376282]\n",
    "coordinates1 = zip(x, y)"
   ]
  },
  {
   "cell_type": "code",
   "execution_count": 166,
   "id": "f5dfaa3a",
   "metadata": {},
   "outputs": [
    {
     "name": "stdout",
     "output_type": "stream",
     "text": [
      "25.12903645 -67.59741259\n",
      "25.92017388 11.09532135\n",
      "26.62509167 74.84233102\n",
      "-59.98969384 -76.89176677\n",
      "37.30571269 -61.13376282\n"
     ]
    }
   ],
   "source": [
    "# Use the tuple() function to display the latitude and longitude combinations.\n",
    "for coordinate in coordinates1:\n",
    "    print(coordinate[0], coordinate[1])"
   ]
  },
  {
   "cell_type": "code",
   "execution_count": 167,
   "id": "d7adb0e5",
   "metadata": {},
   "outputs": [
    {
     "data": {
      "text/plain": [
       "<zip at 0x1db8b688588>"
      ]
     },
     "execution_count": 167,
     "metadata": {},
     "output_type": "execute_result"
    }
   ],
   "source": [
    "coordinates1"
   ]
  },
  {
   "cell_type": "code",
   "execution_count": 168,
   "id": "38e1b612",
   "metadata": {},
   "outputs": [
    {
     "data": {
      "text/plain": [
       "[(-2.9944475443946885, 161.87809213195703),\n",
       " (-85.05131257241347, 100.25682183728952),\n",
       " (-9.549903049454329, -152.98573311648127),\n",
       " (67.59005540283005, -156.71202162759442),\n",
       " (-88.24122399470173, -1.0832759628162307),\n",
       " (38.057160221024475, 135.37413369973655),\n",
       " (8.431238370015805, -114.73237552588594),\n",
       " (75.08042903763538, 126.45764999774934),\n",
       " (25.659947032123867, -38.2092660940408),\n",
       " (63.675496794400914, 173.1289436646723),\n",
       " (67.31545945149784, 143.44126667389645),\n",
       " (5.758828820673429, 154.2870741617545),\n",
       " (-82.12568962860261, 129.08713871903632),\n",
       " (38.674556287820565, 29.02234589614565),\n",
       " (-16.940775981001224, -115.80171264202043),\n",
       " (78.66772383714249, -0.6807878678648933),\n",
       " (-70.46086216934742, 36.94963412244505),\n",
       " (78.79517166594343, 40.17546272940453),\n",
       " (53.99114912530686, 91.60771253125472),\n",
       " (-44.64466215670289, -18.7575483969313),\n",
       " (-14.12123444002846, 170.79426915333596),\n",
       " (31.987979428133514, -150.53153257292377),\n",
       " (-5.455764461704504, 179.1424793579867),\n",
       " (-37.894213105178636, 47.796757852359406),\n",
       " (37.790697356115686, -143.84066863941837),\n",
       " (-49.28389235337883, 170.13187823173075),\n",
       " (78.67282013697809, 53.616175265860704),\n",
       " (3.621161329530551, -60.143536557152075),\n",
       " (-50.64959209904095, 39.57073071017314),\n",
       " (-44.053758623981224, 4.894307068848661),\n",
       " (24.85359776815062, 104.04642325862505),\n",
       " (60.530283164745896, 116.0487089486544),\n",
       " (51.96578474734068, -92.0945591993241),\n",
       " (-6.954686551623723, -49.76585052119688),\n",
       " (48.474092860192286, -178.72131537748245),\n",
       " (11.681728736886683, 156.22663985468358),\n",
       " (45.83592545307664, -40.31657167009794),\n",
       " (-47.19701821437709, 13.468623650348832),\n",
       " (-5.020492801747039, -81.85601171408031),\n",
       " (-45.95728640051176, -54.36333633466579),\n",
       " (-69.83847175983715, 140.66326523543347),\n",
       " (33.72685022336, -92.02883786379812),\n",
       " (-16.8787760380022, -99.94474032248576),\n",
       " (22.65992903147439, 91.1987819935676),\n",
       " (74.76587426004704, -156.49957037971137),\n",
       " (-71.1000903195706, 68.82162806587752),\n",
       " (-73.17679320326721, 19.29985247832451),\n",
       " (-61.70175260814966, 11.693099092919084),\n",
       " (6.825785102439369, -170.9411494283978),\n",
       " (86.08130707998166, 145.30573225262168),\n",
       " (4.806407258551872, 89.98198495143623),\n",
       " (74.31368295000709, 27.486332234329268),\n",
       " (-66.79498994523325, 54.27214289560314),\n",
       " (54.71561759820787, 15.7006697909259),\n",
       " (66.81002357391228, -152.65380432901765),\n",
       " (66.16720786352309, 159.70075488728287),\n",
       " (-39.795977794561836, -138.59825075232962),\n",
       " (-70.08984073497768, 48.1305135303117),\n",
       " (45.959503316358024, -16.773234105793932),\n",
       " (63.32097349435401, 9.592203014866556),\n",
       " (-13.932505213595448, 172.5091439581916),\n",
       " (-46.20867670123189, 40.67141050205956),\n",
       " (-21.68788063653635, -88.19004973773575),\n",
       " (36.579853029599704, 118.94453187246393),\n",
       " (12.661983327704277, 179.26908501885322),\n",
       " (78.02767726440669, -73.29827419165564),\n",
       " (-39.35105064459474, -15.35609873426256),\n",
       " (29.616591570019708, 98.17774450843814),\n",
       " (-7.564672131441199, -12.924903574167189),\n",
       " (30.017861645989868, 75.72077641005342),\n",
       " (25.047284687209128, -127.16705872806394),\n",
       " (45.71563503237053, -81.60830122021751),\n",
       " (12.801040123029793, -103.15586629170578),\n",
       " (7.942822900285563, -39.19584591491051),\n",
       " (-49.41943174853871, 148.58616670825842),\n",
       " (-55.93442336670662, 15.880685636700491),\n",
       " (89.89698477287126, 79.79981498337213),\n",
       " (20.042072450114446, -126.61620691419668),\n",
       " (76.31737020273934, 65.68133761686963),\n",
       " (53.9418352912071, -134.5894398451119),\n",
       " (88.88875320071716, 133.1176672408858),\n",
       " (-67.02848110096454, -13.796839665218641),\n",
       " (30.771429862688493, 16.988190452738962),\n",
       " (-25.134995742195642, -135.69580970134643),\n",
       " (-55.18918189361879, 172.03048771307778),\n",
       " (-84.5116550236829, 111.13770073274799),\n",
       " (52.47966443736021, 6.300753769598913),\n",
       " (-73.4925698071859, 47.1961859559635),\n",
       " (-40.10913451181512, -119.16660601476288),\n",
       " (-36.85461686045105, 126.52585408626248),\n",
       " (48.258911573019134, -173.2856491322858),\n",
       " (-54.72261699576828, -82.52725946789198),\n",
       " (69.42107317838534, -120.60888914019446),\n",
       " (83.1775341865114, -170.94813162861402),\n",
       " (-79.69506692837396, -97.79830317547405),\n",
       " (2.354311805418675, -139.20238820724836),\n",
       " (59.30937900333885, 43.69260159343233),\n",
       " (44.39888937007282, -24.081885749436168),\n",
       " (35.79259013751438, 99.0056916963211),\n",
       " (-48.05577564114051, -12.638086141500764)]"
      ]
     },
     "execution_count": 168,
     "metadata": {},
     "output_type": "execute_result"
    }
   ],
   "source": [
    "# Add the latitudes and longitudes to a list.\n",
    "coordinates = list(lat_lngs)\n",
    "coordinates"
   ]
  },
  {
   "cell_type": "code",
   "execution_count": 169,
   "id": "6c548509",
   "metadata": {},
   "outputs": [],
   "source": [
    "# Use the citipy module to determine city based on latitude and longitude.\n",
    "from citipy import citipy"
   ]
  },
  {
   "cell_type": "code",
   "execution_count": 170,
   "id": "b2e51026",
   "metadata": {},
   "outputs": [
    {
     "name": "stdout",
     "output_type": "stream",
     "text": [
      "buala sb\n",
      "albany au\n",
      "faanui pf\n",
      "barrow us\n",
      "hermanus za\n",
      "wajima jp\n",
      "san patricio mx\n",
      "tiksi ru\n",
      "ponta do sol cv\n",
      "anadyr ru\n",
      "khonuu ru\n",
      "kavieng pg\n",
      "new norfolk au\n",
      "usak tr\n",
      "rikitea pf\n",
      "barentsburg sj\n",
      "port alfred za\n",
      "ostrovnoy ru\n",
      "ust-abakan ru\n",
      "jamestown sh\n",
      "sola vu\n",
      "kahului us\n",
      "asau tv\n",
      "tsihombe mg\n",
      "fortuna us\n",
      "kaitangata nz\n",
      "belushya guba ru\n",
      "lethem gy\n",
      "east london za\n",
      "cape town za\n",
      "zhongshu cn\n",
      "lensk ru\n",
      "sioux lookout ca\n",
      "sao geraldo do araguaia br\n",
      "provideniya ru\n",
      "kavieng pg\n",
      "torbay ca\n",
      "hermanus za\n",
      "talara pe\n",
      "mar del plata ar\n",
      "hobart au\n",
      "monticello us\n",
      "puerto ayora ec\n",
      "feni bd\n",
      "barrow us\n",
      "taolanaro mg\n",
      "bredasdorp za\n",
      "hermanus za\n",
      "kapaa us\n",
      "chokurdakh ru\n",
      "banda aceh id\n",
      "mehamn no\n",
      "taolanaro mg\n",
      "kolobrzeg pl\n",
      "college us\n",
      "cherskiy ru\n",
      "rikitea pf\n",
      "port alfred za\n",
      "muros es\n",
      "lokken verk no\n",
      "sola vu\n",
      "umzimvubu za\n",
      "pisco pe\n",
      "weifang cn\n",
      "butaritari ki\n",
      "qaanaaq gl\n",
      "jamestown sh\n",
      "tezu in\n",
      "georgetown sh\n",
      "sunam in\n",
      "lompoc us\n",
      "little current ca\n",
      "petatlan mx\n",
      "acarau br\n",
      "hobart au\n",
      "hermanus za\n",
      "dikson ru\n",
      "guerrero negro mx\n",
      "amderma ru\n",
      "sitka us\n",
      "nizhneyansk ru\n",
      "cape town za\n",
      "surt ly\n",
      "rikitea pf\n",
      "kaitangata nz\n",
      "albany au\n",
      "dalfsen nl\n",
      "port alfred za\n",
      "rikitea pf\n",
      "esperance au\n",
      "provideniya ru\n",
      "punta arenas cl\n",
      "norman wells ca\n",
      "mys shmidta ru\n",
      "punta arenas cl\n",
      "atuona pf\n",
      "imeni babushkina ru\n",
      "praia da vitoria pt\n",
      "xining cn\n",
      "jamestown sh\n"
     ]
    }
   ],
   "source": [
    "# Use the tuple() function to display the latitude and longitude combinations.\n",
    "for coordinate in coordinates:\n",
    "    print(citipy.nearest_city(coordinate[0], coordinate[1]).city_name,\n",
    "          citipy.nearest_city(coordinate[0], coordinate[1]).country_code)"
   ]
  },
  {
   "cell_type": "code",
   "execution_count": 171,
   "id": "f9b299f2",
   "metadata": {},
   "outputs": [
    {
     "data": {
      "text/plain": [
       "80"
      ]
     },
     "execution_count": 171,
     "metadata": {},
     "output_type": "execute_result"
    }
   ],
   "source": [
    "# Create a list for holding the cities.\n",
    "cities = []\n",
    "# Identify the nearest city for each latitude and longitude combination.\n",
    "for coordinate in coordinates:\n",
    "    city = citipy.nearest_city(coordinate[0], coordinate[1]).city_name\n",
    "\n",
    "    # If the city is unique, then we will add it to the cities list.\n",
    "    if city not in cities:\n",
    "        cities.append(city)\n",
    "# Print the city count to confirm sufficient count.\n",
    "len(cities)"
   ]
  },
  {
   "cell_type": "code",
   "execution_count": 172,
   "id": "910c7535",
   "metadata": {},
   "outputs": [
    {
     "data": {
      "text/plain": [
       "'2.27.1'"
      ]
     },
     "execution_count": 172,
     "metadata": {},
     "output_type": "execute_result"
    }
   ],
   "source": [
    "import requests\n",
    "requests.__version__"
   ]
  },
  {
   "cell_type": "code",
   "execution_count": 173,
   "id": "2a1aa78a",
   "metadata": {},
   "outputs": [],
   "source": [
    "# Import the time library and the datetime module from the datetime library \n",
    "import time\n",
    "from datetime import datetime"
   ]
  },
  {
   "cell_type": "code",
   "execution_count": 155,
   "id": "1901eb27",
   "metadata": {},
   "outputs": [
    {
     "name": "stdout",
     "output_type": "stream",
     "text": [
      "Beginning Data Retrieval     \n",
      "-----------------------------\n"
     ]
    },
    {
     "ename": "IndexError",
     "evalue": "list index out of range",
     "output_type": "error",
     "traceback": [
      "\u001b[1;31m---------------------------------------------------------------------------\u001b[0m",
      "\u001b[1;31mIndexError\u001b[0m                                Traceback (most recent call last)",
      "\u001b[1;32m~\\AppData\\Local\\Temp/ipykernel_7216/1602526204.py\u001b[0m in \u001b[0;36m<module>\u001b[1;34m\u001b[0m\n\u001b[0;32m      8\u001b[0m \u001b[0mrecord_count\u001b[0m \u001b[1;33m=\u001b[0m \u001b[1;36m1\u001b[0m\u001b[1;33m\u001b[0m\u001b[1;33m\u001b[0m\u001b[0m\n\u001b[0;32m      9\u001b[0m \u001b[0mset_count\u001b[0m \u001b[1;33m=\u001b[0m \u001b[1;36m1\u001b[0m\u001b[1;33m\u001b[0m\u001b[1;33m\u001b[0m\u001b[0m\n\u001b[1;32m---> 10\u001b[1;33m \u001b[0mprint\u001b[0m\u001b[1;33m(\u001b[0m \u001b[0murl\u001b[0m \u001b[1;33m+\u001b[0m \u001b[1;34m\"&q=\"\u001b[0m \u001b[1;33m+\u001b[0m \u001b[0mcities\u001b[0m\u001b[1;33m[\u001b[0m\u001b[1;36m10\u001b[0m\u001b[1;33m]\u001b[0m\u001b[1;33m)\u001b[0m\u001b[1;33m\u001b[0m\u001b[1;33m\u001b[0m\u001b[0m\n\u001b[0m\u001b[0;32m     11\u001b[0m \u001b[0mcities\u001b[0m\u001b[1;33m\u001b[0m\u001b[1;33m\u001b[0m\u001b[0m\n",
      "\u001b[1;31mIndexError\u001b[0m: list index out of range"
     ]
    }
   ],
   "source": [
    "# Create an empty list to hold the weather data.\n",
    "city_data = []\n",
    "# Print the beginning of the logging.\n",
    "print(\"Beginning Data Retrieval     \")\n",
    "print(\"-----------------------------\")\n",
    "\n",
    "# Create counters.\n",
    "record_count = 1\n",
    "set_count = 1\n",
    "print( url + \"&q=\" + cities[10])\n",
    "cities"
   ]
  },
  {
   "cell_type": "code",
   "execution_count": 156,
   "id": "5d29918f",
   "metadata": {},
   "outputs": [
    {
     "name": "stdout",
     "output_type": "stream",
     "text": [
      "http://api.openweathermap.org/data/2.5/weather?units=Imperial&APPID=d3166461e354a81efaa2810f5e286a03&q=isangel\n",
      "http://api.openweathermap.org/data/2.5/weather?units=Imperial&APPID=d3166461e354a81efaa2810f5e286a03&q=taolanaro\n",
      "http://api.openweathermap.org/data/2.5/weather?units=Imperial&APPID=d3166461e354a81efaa2810f5e286a03&q=east london\n",
      "http://api.openweathermap.org/data/2.5/weather?units=Imperial&APPID=d3166461e354a81efaa2810f5e286a03&q=touros\n",
      "http://api.openweathermap.org/data/2.5/weather?units=Imperial&APPID=d3166461e354a81efaa2810f5e286a03&q=semme\n"
     ]
    },
    {
     "ename": "IndexError",
     "evalue": "list index out of range",
     "output_type": "error",
     "traceback": [
      "\u001b[1;31m---------------------------------------------------------------------------\u001b[0m",
      "\u001b[1;31mIndexError\u001b[0m                                Traceback (most recent call last)",
      "\u001b[1;32m~\\AppData\\Local\\Temp/ipykernel_7216/2403562015.py\u001b[0m in \u001b[0;36m<module>\u001b[1;34m\u001b[0m\n\u001b[0;32m     10\u001b[0m \u001b[1;33m\u001b[0m\u001b[0m\n\u001b[0;32m     11\u001b[0m     \u001b[1;31m# Create endpoint URL with each city.\u001b[0m\u001b[1;33m\u001b[0m\u001b[1;33m\u001b[0m\u001b[1;33m\u001b[0m\u001b[0m\n\u001b[1;32m---> 12\u001b[1;33m     \u001b[0mcity_url\u001b[0m \u001b[1;33m=\u001b[0m \u001b[0murl\u001b[0m \u001b[1;33m+\u001b[0m \u001b[1;34m\"&q=\"\u001b[0m \u001b[1;33m+\u001b[0m \u001b[0mcities\u001b[0m\u001b[1;33m[\u001b[0m\u001b[0mi\u001b[0m\u001b[1;33m]\u001b[0m\u001b[1;33m\u001b[0m\u001b[1;33m\u001b[0m\u001b[0m\n\u001b[0m\u001b[0;32m     13\u001b[0m     \u001b[0mprint\u001b[0m\u001b[1;33m(\u001b[0m\u001b[0mcity_url\u001b[0m\u001b[1;33m)\u001b[0m\u001b[1;33m\u001b[0m\u001b[1;33m\u001b[0m\u001b[0m\n",
      "\u001b[1;31mIndexError\u001b[0m: list index out of range"
     ]
    }
   ],
   "source": [
    "url = \"http://api.openweathermap.org/data/2.5/weather?units=Imperial&APPID=\" + weather_api_key\n",
    "# Loop through all the cities in our list.\n",
    "# for i in range(len(cities)):\n",
    "for i in range(50):\n",
    "    # Group cities in sets of 50 for logging purposes.\n",
    "    if (i % 50 == 0 and i >= 50):\n",
    "        set_count += 1\n",
    "        record_count = 1\n",
    "        time.sleep(60)\n",
    "\n",
    "    # Create endpoint URL with each city.\n",
    "    city_url = url + \"&q=\" + cities[i]\n",
    "    print(city_url)"
   ]
  },
  {
   "cell_type": "code",
   "execution_count": 157,
   "id": "27781ec7",
   "metadata": {},
   "outputs": [
    {
     "name": "stdout",
     "output_type": "stream",
     "text": [
      "Processing Record 1 of Set 1 | isangel\n",
      "Processing Record 2 of Set 1 | taolanaro\n",
      "Processing Record 3 of Set 1 | east london\n",
      "Processing Record 4 of Set 1 | touros\n",
      "Processing Record 5 of Set 1 | semme\n"
     ]
    }
   ],
   "source": [
    "# Loop through all the cities in the list.\n",
    "for i, city in enumerate(cities):\n",
    "\n",
    "    # Group cities in sets of 50 for logging purposes.\n",
    "    if (i % 50 == 0 and i >= 50):\n",
    "        set_count += 1\n",
    "        record_count = 1\n",
    "        time.sleep(60)\n",
    "\n",
    "    # Create endpoint URL with each city.\n",
    "    city_url = url + \"&q=\" + city.replace(\" \",\"+\")\n",
    "\n",
    "    # Log the URL, record, and set numbers and the city.\n",
    "    print(f\"Processing Record {record_count} of Set {set_count} | {city}\")\n",
    "    # Add 1 to the record count.\n",
    "    record_count += 1"
   ]
  },
  {
   "cell_type": "code",
   "execution_count": 158,
   "id": "3dad866d",
   "metadata": {},
   "outputs": [
    {
     "data": {
      "text/plain": [
       "['isangel', 'taolanaro', 'east london', 'touros', 'semme']"
      ]
     },
     "execution_count": 158,
     "metadata": {},
     "output_type": "execute_result"
    }
   ],
   "source": [
    "cities"
   ]
  },
  {
   "cell_type": "code",
   "execution_count": 174,
   "id": "11e8cd65",
   "metadata": {},
   "outputs": [
    {
     "name": "stdout",
     "output_type": "stream",
     "text": [
      "Processing Record 11 of Set 1 | buala\n",
      "http://api.openweathermap.org/data/2.5/weather?units=Imperial&APPID=d3166461e354a81efaa2810f5e286a03&q=buala\n",
      "Processing Record 12 of Set 1 | albany\n",
      "http://api.openweathermap.org/data/2.5/weather?units=Imperial&APPID=d3166461e354a81efaa2810f5e286a03&q=albany\n",
      "Processing Record 13 of Set 1 | faanui\n",
      "http://api.openweathermap.org/data/2.5/weather?units=Imperial&APPID=d3166461e354a81efaa2810f5e286a03&q=faanui\n",
      "Processing Record 14 of Set 1 | barrow\n",
      "http://api.openweathermap.org/data/2.5/weather?units=Imperial&APPID=d3166461e354a81efaa2810f5e286a03&q=barrow\n",
      "Processing Record 15 of Set 1 | hermanus\n",
      "http://api.openweathermap.org/data/2.5/weather?units=Imperial&APPID=d3166461e354a81efaa2810f5e286a03&q=hermanus\n",
      "Processing Record 16 of Set 1 | wajima\n",
      "http://api.openweathermap.org/data/2.5/weather?units=Imperial&APPID=d3166461e354a81efaa2810f5e286a03&q=wajima\n",
      "Processing Record 17 of Set 1 | san patricio\n",
      "http://api.openweathermap.org/data/2.5/weather?units=Imperial&APPID=d3166461e354a81efaa2810f5e286a03&q=san+patricio\n",
      "Processing Record 18 of Set 1 | tiksi\n",
      "http://api.openweathermap.org/data/2.5/weather?units=Imperial&APPID=d3166461e354a81efaa2810f5e286a03&q=tiksi\n",
      "Processing Record 19 of Set 1 | ponta do sol\n",
      "http://api.openweathermap.org/data/2.5/weather?units=Imperial&APPID=d3166461e354a81efaa2810f5e286a03&q=ponta+do+sol\n",
      "Processing Record 20 of Set 1 | anadyr\n",
      "http://api.openweathermap.org/data/2.5/weather?units=Imperial&APPID=d3166461e354a81efaa2810f5e286a03&q=anadyr\n",
      "Processing Record 21 of Set 1 | khonuu\n",
      "http://api.openweathermap.org/data/2.5/weather?units=Imperial&APPID=d3166461e354a81efaa2810f5e286a03&q=khonuu\n",
      "City not found. Skipping...\n",
      "Processing Record 22 of Set 1 | kavieng\n",
      "http://api.openweathermap.org/data/2.5/weather?units=Imperial&APPID=d3166461e354a81efaa2810f5e286a03&q=kavieng\n",
      "Processing Record 23 of Set 1 | new norfolk\n",
      "http://api.openweathermap.org/data/2.5/weather?units=Imperial&APPID=d3166461e354a81efaa2810f5e286a03&q=new+norfolk\n",
      "Processing Record 24 of Set 1 | usak\n",
      "http://api.openweathermap.org/data/2.5/weather?units=Imperial&APPID=d3166461e354a81efaa2810f5e286a03&q=usak\n",
      "Processing Record 25 of Set 1 | rikitea\n",
      "http://api.openweathermap.org/data/2.5/weather?units=Imperial&APPID=d3166461e354a81efaa2810f5e286a03&q=rikitea\n",
      "Processing Record 26 of Set 1 | barentsburg\n",
      "http://api.openweathermap.org/data/2.5/weather?units=Imperial&APPID=d3166461e354a81efaa2810f5e286a03&q=barentsburg\n",
      "City not found. Skipping...\n",
      "Processing Record 27 of Set 1 | port alfred\n",
      "http://api.openweathermap.org/data/2.5/weather?units=Imperial&APPID=d3166461e354a81efaa2810f5e286a03&q=port+alfred\n",
      "Processing Record 28 of Set 1 | ostrovnoy\n",
      "http://api.openweathermap.org/data/2.5/weather?units=Imperial&APPID=d3166461e354a81efaa2810f5e286a03&q=ostrovnoy\n",
      "Processing Record 29 of Set 1 | ust-abakan\n",
      "http://api.openweathermap.org/data/2.5/weather?units=Imperial&APPID=d3166461e354a81efaa2810f5e286a03&q=ust-abakan\n",
      "Processing Record 30 of Set 1 | jamestown\n",
      "http://api.openweathermap.org/data/2.5/weather?units=Imperial&APPID=d3166461e354a81efaa2810f5e286a03&q=jamestown\n",
      "Processing Record 31 of Set 1 | sola\n",
      "http://api.openweathermap.org/data/2.5/weather?units=Imperial&APPID=d3166461e354a81efaa2810f5e286a03&q=sola\n",
      "Processing Record 32 of Set 1 | kahului\n",
      "http://api.openweathermap.org/data/2.5/weather?units=Imperial&APPID=d3166461e354a81efaa2810f5e286a03&q=kahului\n",
      "Processing Record 33 of Set 1 | asau\n",
      "http://api.openweathermap.org/data/2.5/weather?units=Imperial&APPID=d3166461e354a81efaa2810f5e286a03&q=asau\n",
      "Processing Record 34 of Set 1 | tsihombe\n",
      "http://api.openweathermap.org/data/2.5/weather?units=Imperial&APPID=d3166461e354a81efaa2810f5e286a03&q=tsihombe\n",
      "City not found. Skipping...\n",
      "Processing Record 35 of Set 1 | fortuna\n",
      "http://api.openweathermap.org/data/2.5/weather?units=Imperial&APPID=d3166461e354a81efaa2810f5e286a03&q=fortuna\n",
      "Processing Record 36 of Set 1 | kaitangata\n",
      "http://api.openweathermap.org/data/2.5/weather?units=Imperial&APPID=d3166461e354a81efaa2810f5e286a03&q=kaitangata\n",
      "Processing Record 37 of Set 1 | belushya guba\n",
      "http://api.openweathermap.org/data/2.5/weather?units=Imperial&APPID=d3166461e354a81efaa2810f5e286a03&q=belushya+guba\n",
      "City not found. Skipping...\n",
      "Processing Record 38 of Set 1 | lethem\n",
      "http://api.openweathermap.org/data/2.5/weather?units=Imperial&APPID=d3166461e354a81efaa2810f5e286a03&q=lethem\n",
      "Processing Record 39 of Set 1 | east london\n",
      "http://api.openweathermap.org/data/2.5/weather?units=Imperial&APPID=d3166461e354a81efaa2810f5e286a03&q=east+london\n",
      "Processing Record 40 of Set 1 | cape town\n",
      "http://api.openweathermap.org/data/2.5/weather?units=Imperial&APPID=d3166461e354a81efaa2810f5e286a03&q=cape+town\n",
      "Processing Record 41 of Set 1 | zhongshu\n",
      "http://api.openweathermap.org/data/2.5/weather?units=Imperial&APPID=d3166461e354a81efaa2810f5e286a03&q=zhongshu\n",
      "Processing Record 42 of Set 1 | lensk\n",
      "http://api.openweathermap.org/data/2.5/weather?units=Imperial&APPID=d3166461e354a81efaa2810f5e286a03&q=lensk\n",
      "Processing Record 43 of Set 1 | sioux lookout\n",
      "http://api.openweathermap.org/data/2.5/weather?units=Imperial&APPID=d3166461e354a81efaa2810f5e286a03&q=sioux+lookout\n",
      "Processing Record 44 of Set 1 | sao geraldo do araguaia\n",
      "http://api.openweathermap.org/data/2.5/weather?units=Imperial&APPID=d3166461e354a81efaa2810f5e286a03&q=sao+geraldo+do+araguaia\n",
      "Processing Record 45 of Set 1 | provideniya\n",
      "http://api.openweathermap.org/data/2.5/weather?units=Imperial&APPID=d3166461e354a81efaa2810f5e286a03&q=provideniya\n",
      "Processing Record 46 of Set 1 | torbay\n",
      "http://api.openweathermap.org/data/2.5/weather?units=Imperial&APPID=d3166461e354a81efaa2810f5e286a03&q=torbay\n",
      "Processing Record 47 of Set 1 | talara\n",
      "http://api.openweathermap.org/data/2.5/weather?units=Imperial&APPID=d3166461e354a81efaa2810f5e286a03&q=talara\n",
      "Processing Record 48 of Set 1 | mar del plata\n",
      "http://api.openweathermap.org/data/2.5/weather?units=Imperial&APPID=d3166461e354a81efaa2810f5e286a03&q=mar+del+plata\n",
      "Processing Record 49 of Set 1 | hobart\n",
      "http://api.openweathermap.org/data/2.5/weather?units=Imperial&APPID=d3166461e354a81efaa2810f5e286a03&q=hobart\n",
      "Processing Record 50 of Set 1 | monticello\n",
      "http://api.openweathermap.org/data/2.5/weather?units=Imperial&APPID=d3166461e354a81efaa2810f5e286a03&q=monticello\n",
      "Processing Record 51 of Set 1 | puerto ayora\n",
      "http://api.openweathermap.org/data/2.5/weather?units=Imperial&APPID=d3166461e354a81efaa2810f5e286a03&q=puerto+ayora\n",
      "Processing Record 52 of Set 1 | feni\n",
      "http://api.openweathermap.org/data/2.5/weather?units=Imperial&APPID=d3166461e354a81efaa2810f5e286a03&q=feni\n",
      "Processing Record 53 of Set 1 | taolanaro\n",
      "http://api.openweathermap.org/data/2.5/weather?units=Imperial&APPID=d3166461e354a81efaa2810f5e286a03&q=taolanaro\n",
      "City not found. Skipping...\n",
      "Processing Record 54 of Set 1 | bredasdorp\n",
      "http://api.openweathermap.org/data/2.5/weather?units=Imperial&APPID=d3166461e354a81efaa2810f5e286a03&q=bredasdorp\n",
      "Processing Record 55 of Set 1 | kapaa\n",
      "http://api.openweathermap.org/data/2.5/weather?units=Imperial&APPID=d3166461e354a81efaa2810f5e286a03&q=kapaa\n",
      "Processing Record 56 of Set 1 | chokurdakh\n",
      "http://api.openweathermap.org/data/2.5/weather?units=Imperial&APPID=d3166461e354a81efaa2810f5e286a03&q=chokurdakh\n",
      "Processing Record 57 of Set 1 | banda aceh\n",
      "http://api.openweathermap.org/data/2.5/weather?units=Imperial&APPID=d3166461e354a81efaa2810f5e286a03&q=banda+aceh\n",
      "Processing Record 58 of Set 1 | mehamn\n",
      "http://api.openweathermap.org/data/2.5/weather?units=Imperial&APPID=d3166461e354a81efaa2810f5e286a03&q=mehamn\n",
      "Processing Record 59 of Set 1 | kolobrzeg\n",
      "http://api.openweathermap.org/data/2.5/weather?units=Imperial&APPID=d3166461e354a81efaa2810f5e286a03&q=kolobrzeg\n",
      "Processing Record 60 of Set 1 | college\n",
      "http://api.openweathermap.org/data/2.5/weather?units=Imperial&APPID=d3166461e354a81efaa2810f5e286a03&q=college\n",
      "Processing Record 1 of Set 2 | cherskiy\n",
      "http://api.openweathermap.org/data/2.5/weather?units=Imperial&APPID=d3166461e354a81efaa2810f5e286a03&q=cherskiy\n",
      "Processing Record 2 of Set 2 | muros\n",
      "http://api.openweathermap.org/data/2.5/weather?units=Imperial&APPID=d3166461e354a81efaa2810f5e286a03&q=muros\n",
      "Processing Record 3 of Set 2 | lokken verk\n",
      "http://api.openweathermap.org/data/2.5/weather?units=Imperial&APPID=d3166461e354a81efaa2810f5e286a03&q=lokken+verk\n",
      "City not found. Skipping...\n",
      "Processing Record 4 of Set 2 | umzimvubu\n",
      "http://api.openweathermap.org/data/2.5/weather?units=Imperial&APPID=d3166461e354a81efaa2810f5e286a03&q=umzimvubu\n",
      "City not found. Skipping...\n",
      "Processing Record 5 of Set 2 | pisco\n",
      "http://api.openweathermap.org/data/2.5/weather?units=Imperial&APPID=d3166461e354a81efaa2810f5e286a03&q=pisco\n"
     ]
    },
    {
     "name": "stdout",
     "output_type": "stream",
     "text": [
      "Processing Record 6 of Set 2 | weifang\n",
      "http://api.openweathermap.org/data/2.5/weather?units=Imperial&APPID=d3166461e354a81efaa2810f5e286a03&q=weifang\n",
      "Processing Record 7 of Set 2 | butaritari\n",
      "http://api.openweathermap.org/data/2.5/weather?units=Imperial&APPID=d3166461e354a81efaa2810f5e286a03&q=butaritari\n",
      "Processing Record 8 of Set 2 | qaanaaq\n",
      "http://api.openweathermap.org/data/2.5/weather?units=Imperial&APPID=d3166461e354a81efaa2810f5e286a03&q=qaanaaq\n",
      "Processing Record 9 of Set 2 | tezu\n",
      "http://api.openweathermap.org/data/2.5/weather?units=Imperial&APPID=d3166461e354a81efaa2810f5e286a03&q=tezu\n",
      "Processing Record 10 of Set 2 | georgetown\n",
      "http://api.openweathermap.org/data/2.5/weather?units=Imperial&APPID=d3166461e354a81efaa2810f5e286a03&q=georgetown\n",
      "Processing Record 11 of Set 2 | sunam\n",
      "http://api.openweathermap.org/data/2.5/weather?units=Imperial&APPID=d3166461e354a81efaa2810f5e286a03&q=sunam\n",
      "Processing Record 12 of Set 2 | lompoc\n",
      "http://api.openweathermap.org/data/2.5/weather?units=Imperial&APPID=d3166461e354a81efaa2810f5e286a03&q=lompoc\n",
      "Processing Record 13 of Set 2 | little current\n",
      "http://api.openweathermap.org/data/2.5/weather?units=Imperial&APPID=d3166461e354a81efaa2810f5e286a03&q=little+current\n",
      "Processing Record 14 of Set 2 | petatlan\n",
      "http://api.openweathermap.org/data/2.5/weather?units=Imperial&APPID=d3166461e354a81efaa2810f5e286a03&q=petatlan\n",
      "Processing Record 15 of Set 2 | acarau\n",
      "http://api.openweathermap.org/data/2.5/weather?units=Imperial&APPID=d3166461e354a81efaa2810f5e286a03&q=acarau\n",
      "Processing Record 16 of Set 2 | dikson\n",
      "http://api.openweathermap.org/data/2.5/weather?units=Imperial&APPID=d3166461e354a81efaa2810f5e286a03&q=dikson\n",
      "Processing Record 17 of Set 2 | guerrero negro\n",
      "http://api.openweathermap.org/data/2.5/weather?units=Imperial&APPID=d3166461e354a81efaa2810f5e286a03&q=guerrero+negro\n",
      "Processing Record 18 of Set 2 | amderma\n",
      "http://api.openweathermap.org/data/2.5/weather?units=Imperial&APPID=d3166461e354a81efaa2810f5e286a03&q=amderma\n",
      "City not found. Skipping...\n",
      "Processing Record 19 of Set 2 | sitka\n",
      "http://api.openweathermap.org/data/2.5/weather?units=Imperial&APPID=d3166461e354a81efaa2810f5e286a03&q=sitka\n",
      "Processing Record 20 of Set 2 | nizhneyansk\n",
      "http://api.openweathermap.org/data/2.5/weather?units=Imperial&APPID=d3166461e354a81efaa2810f5e286a03&q=nizhneyansk\n",
      "City not found. Skipping...\n",
      "Processing Record 21 of Set 2 | surt\n",
      "http://api.openweathermap.org/data/2.5/weather?units=Imperial&APPID=d3166461e354a81efaa2810f5e286a03&q=surt\n",
      "Processing Record 22 of Set 2 | dalfsen\n",
      "http://api.openweathermap.org/data/2.5/weather?units=Imperial&APPID=d3166461e354a81efaa2810f5e286a03&q=dalfsen\n",
      "Processing Record 23 of Set 2 | esperance\n",
      "http://api.openweathermap.org/data/2.5/weather?units=Imperial&APPID=d3166461e354a81efaa2810f5e286a03&q=esperance\n",
      "Processing Record 24 of Set 2 | punta arenas\n",
      "http://api.openweathermap.org/data/2.5/weather?units=Imperial&APPID=d3166461e354a81efaa2810f5e286a03&q=punta+arenas\n",
      "Processing Record 25 of Set 2 | norman wells\n",
      "http://api.openweathermap.org/data/2.5/weather?units=Imperial&APPID=d3166461e354a81efaa2810f5e286a03&q=norman+wells\n",
      "Processing Record 26 of Set 2 | mys shmidta\n",
      "http://api.openweathermap.org/data/2.5/weather?units=Imperial&APPID=d3166461e354a81efaa2810f5e286a03&q=mys+shmidta\n",
      "City not found. Skipping...\n",
      "Processing Record 27 of Set 2 | atuona\n",
      "http://api.openweathermap.org/data/2.5/weather?units=Imperial&APPID=d3166461e354a81efaa2810f5e286a03&q=atuona\n",
      "Processing Record 28 of Set 2 | imeni babushkina\n",
      "http://api.openweathermap.org/data/2.5/weather?units=Imperial&APPID=d3166461e354a81efaa2810f5e286a03&q=imeni+babushkina\n",
      "Processing Record 29 of Set 2 | praia da vitoria\n",
      "http://api.openweathermap.org/data/2.5/weather?units=Imperial&APPID=d3166461e354a81efaa2810f5e286a03&q=praia+da+vitoria\n",
      "Processing Record 30 of Set 2 | xining\n",
      "http://api.openweathermap.org/data/2.5/weather?units=Imperial&APPID=d3166461e354a81efaa2810f5e286a03&q=xining\n",
      "-----------------------------\n",
      "Data Retrieval Complete      \n",
      "-----------------------------\n"
     ]
    },
    {
     "data": {
      "text/html": [
       "<div>\n",
       "<style scoped>\n",
       "    .dataframe tbody tr th:only-of-type {\n",
       "        vertical-align: middle;\n",
       "    }\n",
       "\n",
       "    .dataframe tbody tr th {\n",
       "        vertical-align: top;\n",
       "    }\n",
       "\n",
       "    .dataframe thead th {\n",
       "        text-align: right;\n",
       "    }\n",
       "</style>\n",
       "<table border=\"1\" class=\"dataframe\">\n",
       "  <thead>\n",
       "    <tr style=\"text-align: right;\">\n",
       "      <th></th>\n",
       "      <th>City</th>\n",
       "      <th>Lat</th>\n",
       "      <th>Lng</th>\n",
       "      <th>Max Temp</th>\n",
       "      <th>Humidity</th>\n",
       "      <th>Cloudiness</th>\n",
       "      <th>Wind Speed</th>\n",
       "      <th>Country</th>\n",
       "      <th>Date</th>\n",
       "    </tr>\n",
       "  </thead>\n",
       "  <tbody>\n",
       "    <tr>\n",
       "      <th>0</th>\n",
       "      <td>Isangel</td>\n",
       "      <td>-19.5500</td>\n",
       "      <td>169.2667</td>\n",
       "      <td>85.08</td>\n",
       "      <td>75</td>\n",
       "      <td>57</td>\n",
       "      <td>7.72</td>\n",
       "      <td>VU</td>\n",
       "      <td>2022-04-02 02:24:12</td>\n",
       "    </tr>\n",
       "    <tr>\n",
       "      <th>1</th>\n",
       "      <td>East London</td>\n",
       "      <td>-33.0153</td>\n",
       "      <td>27.9116</td>\n",
       "      <td>64.96</td>\n",
       "      <td>93</td>\n",
       "      <td>100</td>\n",
       "      <td>7.31</td>\n",
       "      <td>ZA</td>\n",
       "      <td>2022-04-02 02:22:30</td>\n",
       "    </tr>\n",
       "    <tr>\n",
       "      <th>2</th>\n",
       "      <td>Touros</td>\n",
       "      <td>-5.1989</td>\n",
       "      <td>-35.4608</td>\n",
       "      <td>79.75</td>\n",
       "      <td>82</td>\n",
       "      <td>98</td>\n",
       "      <td>11.61</td>\n",
       "      <td>BR</td>\n",
       "      <td>2022-04-02 02:24:12</td>\n",
       "    </tr>\n",
       "    <tr>\n",
       "      <th>3</th>\n",
       "      <td>Semme</td>\n",
       "      <td>46.1963</td>\n",
       "      <td>1.5007</td>\n",
       "      <td>30.61</td>\n",
       "      <td>97</td>\n",
       "      <td>100</td>\n",
       "      <td>12.17</td>\n",
       "      <td>FR</td>\n",
       "      <td>2022-04-02 02:24:12</td>\n",
       "    </tr>\n",
       "    <tr>\n",
       "      <th>4</th>\n",
       "      <td>Buala</td>\n",
       "      <td>-8.1450</td>\n",
       "      <td>159.5921</td>\n",
       "      <td>81.50</td>\n",
       "      <td>82</td>\n",
       "      <td>87</td>\n",
       "      <td>10.29</td>\n",
       "      <td>SB</td>\n",
       "      <td>2022-04-02 02:38:10</td>\n",
       "    </tr>\n",
       "    <tr>\n",
       "      <th>5</th>\n",
       "      <td>Albany</td>\n",
       "      <td>42.6001</td>\n",
       "      <td>-73.9662</td>\n",
       "      <td>36.23</td>\n",
       "      <td>64</td>\n",
       "      <td>90</td>\n",
       "      <td>5.99</td>\n",
       "      <td>US</td>\n",
       "      <td>2022-04-02 02:37:51</td>\n",
       "    </tr>\n",
       "    <tr>\n",
       "      <th>6</th>\n",
       "      <td>Faanui</td>\n",
       "      <td>-16.4833</td>\n",
       "      <td>-151.7500</td>\n",
       "      <td>82.36</td>\n",
       "      <td>67</td>\n",
       "      <td>100</td>\n",
       "      <td>1.52</td>\n",
       "      <td>PF</td>\n",
       "      <td>2022-04-02 02:35:32</td>\n",
       "    </tr>\n",
       "    <tr>\n",
       "      <th>7</th>\n",
       "      <td>Barrow</td>\n",
       "      <td>71.2906</td>\n",
       "      <td>-156.7887</td>\n",
       "      <td>-2.18</td>\n",
       "      <td>65</td>\n",
       "      <td>0</td>\n",
       "      <td>18.41</td>\n",
       "      <td>US</td>\n",
       "      <td>2022-04-02 02:35:37</td>\n",
       "    </tr>\n",
       "    <tr>\n",
       "      <th>8</th>\n",
       "      <td>Hermanus</td>\n",
       "      <td>-34.4187</td>\n",
       "      <td>19.2345</td>\n",
       "      <td>57.79</td>\n",
       "      <td>71</td>\n",
       "      <td>95</td>\n",
       "      <td>14.29</td>\n",
       "      <td>ZA</td>\n",
       "      <td>2022-04-02 02:33:57</td>\n",
       "    </tr>\n",
       "    <tr>\n",
       "      <th>9</th>\n",
       "      <td>Wajima</td>\n",
       "      <td>37.4000</td>\n",
       "      <td>136.9000</td>\n",
       "      <td>48.88</td>\n",
       "      <td>46</td>\n",
       "      <td>20</td>\n",
       "      <td>4.61</td>\n",
       "      <td>JP</td>\n",
       "      <td>2022-04-02 02:35:36</td>\n",
       "    </tr>\n",
       "  </tbody>\n",
       "</table>\n",
       "</div>"
      ],
      "text/plain": [
       "          City      Lat       Lng  Max Temp  Humidity  Cloudiness  Wind Speed  \\\n",
       "0      Isangel -19.5500  169.2667     85.08        75          57        7.72   \n",
       "1  East London -33.0153   27.9116     64.96        93         100        7.31   \n",
       "2       Touros  -5.1989  -35.4608     79.75        82          98       11.61   \n",
       "3        Semme  46.1963    1.5007     30.61        97         100       12.17   \n",
       "4        Buala  -8.1450  159.5921     81.50        82          87       10.29   \n",
       "5       Albany  42.6001  -73.9662     36.23        64          90        5.99   \n",
       "6       Faanui -16.4833 -151.7500     82.36        67         100        1.52   \n",
       "7       Barrow  71.2906 -156.7887     -2.18        65           0       18.41   \n",
       "8     Hermanus -34.4187   19.2345     57.79        71          95       14.29   \n",
       "9       Wajima  37.4000  136.9000     48.88        46          20        4.61   \n",
       "\n",
       "  Country                 Date  \n",
       "0      VU  2022-04-02 02:24:12  \n",
       "1      ZA  2022-04-02 02:22:30  \n",
       "2      BR  2022-04-02 02:24:12  \n",
       "3      FR  2022-04-02 02:24:12  \n",
       "4      SB  2022-04-02 02:38:10  \n",
       "5      US  2022-04-02 02:37:51  \n",
       "6      PF  2022-04-02 02:35:32  \n",
       "7      US  2022-04-02 02:35:37  \n",
       "8      ZA  2022-04-02 02:33:57  \n",
       "9      JP  2022-04-02 02:35:36  "
      ]
     },
     "execution_count": 174,
     "metadata": {},
     "output_type": "execute_result"
    }
   ],
   "source": [
    "\n",
    "# Run an API request for each of the cities.\n",
    "# Loop through all the cities in the list.\n",
    "for i, city in enumerate(cities):\n",
    "\n",
    "    # Group cities in sets of 50 for logging purposes.\n",
    "    if (i % 50 == 0 and i >= 50):\n",
    "        set_count += 1\n",
    "        record_count = 1\n",
    "        time.sleep(60)\n",
    "    try:\n",
    "        # Create endpoint URL with each city.\n",
    "        city_url = url + \"&q=\" + city.replace(\" \",\"+\")\n",
    "\n",
    "        # Log the URL, record, and set numbers and the city.\n",
    "        print(f\"Processing Record {record_count} of Set {set_count} | {city}\")\n",
    "        # Add 1 to the record count.\n",
    "        record_count += 1\n",
    "        # Parse the JSON and retrieve data.\n",
    "        print(city_url)\n",
    "        city_weather = requests.get(city_url).json()\n",
    "        # Parse out the needed data.\n",
    "        city_lat = city_weather[\"coord\"][\"lat\"]\n",
    "        city_lng = city_weather[\"coord\"][\"lon\"]\n",
    "        city_max_temp = city_weather[\"main\"][\"temp_max\"]\n",
    "        city_humidity = city_weather[\"main\"][\"humidity\"]\n",
    "        city_clouds = city_weather[\"clouds\"][\"all\"]\n",
    "        city_wind = city_weather[\"wind\"][\"speed\"]\n",
    "        city_country = city_weather[\"sys\"][\"country\"]\n",
    "        # Convert the date to ISO standard.\n",
    "        city_date = datetime.utcfromtimestamp(city_weather[\"dt\"]).strftime('%Y-%m-%d %H:%M:%S')\n",
    "        # Append the city information into city_data list.\n",
    "        city_data.append({\"City\": city.title(),\n",
    "                          \"Lat\": city_lat,\n",
    "                          \"Lng\": city_lng,\n",
    "                          \"Max Temp\": city_max_temp,\n",
    "                          \"Humidity\": city_humidity,\n",
    "                          \"Cloudiness\": city_clouds,\n",
    "                          \"Wind Speed\": city_wind,\n",
    "                          \"Country\": city_country,\n",
    "                          \"Date\": city_date})\n",
    "\n",
    "# If an error is experienced, skip the city.\n",
    "    except:\n",
    "        print(\"City not found. Skipping...\")\n",
    "        pass\n",
    "\n",
    "# Indicate that Data Loading is complete.\n",
    "print(\"-----------------------------\")\n",
    "print(\"Data Retrieval Complete      \")\n",
    "print(\"-----------------------------\")\n",
    "# Convert the array of dictionaries to a Pandas DataFrame.\n",
    "city_data_df = pd.DataFrame(city_data)\n",
    "city_data_df.head(10)"
   ]
  },
  {
   "cell_type": "code",
   "execution_count": 175,
   "id": "862fd96f",
   "metadata": {},
   "outputs": [
    {
     "data": {
      "text/html": [
       "<div>\n",
       "<style scoped>\n",
       "    .dataframe tbody tr th:only-of-type {\n",
       "        vertical-align: middle;\n",
       "    }\n",
       "\n",
       "    .dataframe tbody tr th {\n",
       "        vertical-align: top;\n",
       "    }\n",
       "\n",
       "    .dataframe thead th {\n",
       "        text-align: right;\n",
       "    }\n",
       "</style>\n",
       "<table border=\"1\" class=\"dataframe\">\n",
       "  <thead>\n",
       "    <tr style=\"text-align: right;\">\n",
       "      <th></th>\n",
       "      <th>City</th>\n",
       "      <th>Country</th>\n",
       "      <th>Date</th>\n",
       "      <th>Lat</th>\n",
       "      <th>Lng</th>\n",
       "      <th>Max Temp</th>\n",
       "      <th>Humidity</th>\n",
       "      <th>Cloudiness</th>\n",
       "      <th>Wind Speed</th>\n",
       "    </tr>\n",
       "  </thead>\n",
       "  <tbody>\n",
       "    <tr>\n",
       "      <th>0</th>\n",
       "      <td>Isangel</td>\n",
       "      <td>VU</td>\n",
       "      <td>2022-04-02 02:24:12</td>\n",
       "      <td>-19.5500</td>\n",
       "      <td>169.2667</td>\n",
       "      <td>85.08</td>\n",
       "      <td>75</td>\n",
       "      <td>57</td>\n",
       "      <td>7.72</td>\n",
       "    </tr>\n",
       "    <tr>\n",
       "      <th>1</th>\n",
       "      <td>East London</td>\n",
       "      <td>ZA</td>\n",
       "      <td>2022-04-02 02:22:30</td>\n",
       "      <td>-33.0153</td>\n",
       "      <td>27.9116</td>\n",
       "      <td>64.96</td>\n",
       "      <td>93</td>\n",
       "      <td>100</td>\n",
       "      <td>7.31</td>\n",
       "    </tr>\n",
       "    <tr>\n",
       "      <th>2</th>\n",
       "      <td>Touros</td>\n",
       "      <td>BR</td>\n",
       "      <td>2022-04-02 02:24:12</td>\n",
       "      <td>-5.1989</td>\n",
       "      <td>-35.4608</td>\n",
       "      <td>79.75</td>\n",
       "      <td>82</td>\n",
       "      <td>98</td>\n",
       "      <td>11.61</td>\n",
       "    </tr>\n",
       "    <tr>\n",
       "      <th>3</th>\n",
       "      <td>Semme</td>\n",
       "      <td>FR</td>\n",
       "      <td>2022-04-02 02:24:12</td>\n",
       "      <td>46.1963</td>\n",
       "      <td>1.5007</td>\n",
       "      <td>30.61</td>\n",
       "      <td>97</td>\n",
       "      <td>100</td>\n",
       "      <td>12.17</td>\n",
       "    </tr>\n",
       "    <tr>\n",
       "      <th>4</th>\n",
       "      <td>Buala</td>\n",
       "      <td>SB</td>\n",
       "      <td>2022-04-02 02:38:10</td>\n",
       "      <td>-8.1450</td>\n",
       "      <td>159.5921</td>\n",
       "      <td>81.50</td>\n",
       "      <td>82</td>\n",
       "      <td>87</td>\n",
       "      <td>10.29</td>\n",
       "    </tr>\n",
       "    <tr>\n",
       "      <th>...</th>\n",
       "      <td>...</td>\n",
       "      <td>...</td>\n",
       "      <td>...</td>\n",
       "      <td>...</td>\n",
       "      <td>...</td>\n",
       "      <td>...</td>\n",
       "      <td>...</td>\n",
       "      <td>...</td>\n",
       "      <td>...</td>\n",
       "    </tr>\n",
       "    <tr>\n",
       "      <th>69</th>\n",
       "      <td>Norman Wells</td>\n",
       "      <td>CA</td>\n",
       "      <td>2022-04-02 02:39:31</td>\n",
       "      <td>65.2820</td>\n",
       "      <td>-126.8329</td>\n",
       "      <td>-2.16</td>\n",
       "      <td>46</td>\n",
       "      <td>0</td>\n",
       "      <td>2.30</td>\n",
       "    </tr>\n",
       "    <tr>\n",
       "      <th>70</th>\n",
       "      <td>Atuona</td>\n",
       "      <td>PF</td>\n",
       "      <td>2022-04-02 02:36:50</td>\n",
       "      <td>-9.8000</td>\n",
       "      <td>-139.0333</td>\n",
       "      <td>79.09</td>\n",
       "      <td>74</td>\n",
       "      <td>45</td>\n",
       "      <td>7.16</td>\n",
       "    </tr>\n",
       "    <tr>\n",
       "      <th>71</th>\n",
       "      <td>Imeni Babushkina</td>\n",
       "      <td>RU</td>\n",
       "      <td>2022-04-02 02:39:32</td>\n",
       "      <td>59.7573</td>\n",
       "      <td>43.1285</td>\n",
       "      <td>0.91</td>\n",
       "      <td>99</td>\n",
       "      <td>66</td>\n",
       "      <td>3.51</td>\n",
       "    </tr>\n",
       "    <tr>\n",
       "      <th>72</th>\n",
       "      <td>Praia Da Vitoria</td>\n",
       "      <td>PT</td>\n",
       "      <td>2022-04-02 02:39:10</td>\n",
       "      <td>38.7333</td>\n",
       "      <td>-27.0667</td>\n",
       "      <td>58.75</td>\n",
       "      <td>88</td>\n",
       "      <td>40</td>\n",
       "      <td>12.44</td>\n",
       "    </tr>\n",
       "    <tr>\n",
       "      <th>73</th>\n",
       "      <td>Xining</td>\n",
       "      <td>CN</td>\n",
       "      <td>2022-04-02 02:39:32</td>\n",
       "      <td>36.6167</td>\n",
       "      <td>101.7667</td>\n",
       "      <td>40.71</td>\n",
       "      <td>42</td>\n",
       "      <td>0</td>\n",
       "      <td>2.19</td>\n",
       "    </tr>\n",
       "  </tbody>\n",
       "</table>\n",
       "<p>74 rows × 9 columns</p>\n",
       "</div>"
      ],
      "text/plain": [
       "                City Country                 Date      Lat       Lng  \\\n",
       "0            Isangel      VU  2022-04-02 02:24:12 -19.5500  169.2667   \n",
       "1        East London      ZA  2022-04-02 02:22:30 -33.0153   27.9116   \n",
       "2             Touros      BR  2022-04-02 02:24:12  -5.1989  -35.4608   \n",
       "3              Semme      FR  2022-04-02 02:24:12  46.1963    1.5007   \n",
       "4              Buala      SB  2022-04-02 02:38:10  -8.1450  159.5921   \n",
       "..               ...     ...                  ...      ...       ...   \n",
       "69      Norman Wells      CA  2022-04-02 02:39:31  65.2820 -126.8329   \n",
       "70            Atuona      PF  2022-04-02 02:36:50  -9.8000 -139.0333   \n",
       "71  Imeni Babushkina      RU  2022-04-02 02:39:32  59.7573   43.1285   \n",
       "72  Praia Da Vitoria      PT  2022-04-02 02:39:10  38.7333  -27.0667   \n",
       "73            Xining      CN  2022-04-02 02:39:32  36.6167  101.7667   \n",
       "\n",
       "    Max Temp  Humidity  Cloudiness  Wind Speed  \n",
       "0      85.08        75          57        7.72  \n",
       "1      64.96        93         100        7.31  \n",
       "2      79.75        82          98       11.61  \n",
       "3      30.61        97         100       12.17  \n",
       "4      81.50        82          87       10.29  \n",
       "..       ...       ...         ...         ...  \n",
       "69     -2.16        46           0        2.30  \n",
       "70     79.09        74          45        7.16  \n",
       "71      0.91        99          66        3.51  \n",
       "72     58.75        88          40       12.44  \n",
       "73     40.71        42           0        2.19  \n",
       "\n",
       "[74 rows x 9 columns]"
      ]
     },
     "execution_count": 175,
     "metadata": {},
     "output_type": "execute_result"
    }
   ],
   "source": [
    "new_order = ['City','Country','Date','Lat','Lng','Max Temp','Humidity','Cloudiness','Wind Speed']\n",
    "city_data_df=city_data_df[new_order]\n",
    "city_data_df"
   ]
  },
  {
   "cell_type": "code",
   "execution_count": 176,
   "id": "32c1e7e4",
   "metadata": {
    "scrolled": true
   },
   "outputs": [],
   "source": [
    "# Create the output file (CSV).\n",
    "output_data_file = \"weather_data/cities.csv\"\n",
    "# Export the City_Data into a CSV.\n",
    "city_data_df.to_csv(output_data_file, index_label=\"City_ID\")"
   ]
  },
  {
   "cell_type": "code",
   "execution_count": 177,
   "id": "475bab15",
   "metadata": {},
   "outputs": [],
   "source": [
    "# Extract relevant fields from the DataFrame for plotting.\n",
    "lats = city_data_df[\"Lat\"]\n",
    "max_temps = city_data_df[\"Max Temp\"]\n",
    "humidity = city_data_df[\"Humidity\"]\n",
    "cloudiness = city_data_df[\"Cloudiness\"]\n",
    "wind_speed = city_data_df[\"Wind Speed\"]"
   ]
  },
  {
   "cell_type": "code",
   "execution_count": 179,
   "id": "eae53f4f",
   "metadata": {},
   "outputs": [
    {
     "data": {
      "text/plain": [
       "'04/01/22'"
      ]
     },
     "execution_count": 179,
     "metadata": {},
     "output_type": "execute_result"
    }
   ],
   "source": [
    "# Import the time module.\n",
    "import time\n",
    "# Get today's date in seconds.\n",
    "today = time.strftime(\"%x\")\n",
    "today"
   ]
  },
  {
   "cell_type": "code",
   "execution_count": 180,
   "id": "280ac1e2",
   "metadata": {},
   "outputs": [
    {
     "data": {
      "image/png": "[encoded data removed]",
      "text/plain": [
       "<Figure size 432x288 with 1 Axes>"
      ]
     },
     "metadata": {
      "needs_background": "light"
     },
     "output_type": "display_data"
    }
   ],
   "source": [
    "# Import time module\n",
    "import time\n",
    "\n",
    "# Build the scatter plot for latitude vs. max temperature.\n",
    "plt.scatter(lats,\n",
    "            max_temps,\n",
    "            edgecolor=\"black\", linewidths=1, marker=\"o\",\n",
    "            alpha=0.8, label=\"Cities\")\n",
    "\n",
    "# Incorporate the other graph properties.\n",
    "plt.title(f\"City Latitude vs. Max Temperature \"+ time.strftime(\"%x\"))\n",
    "plt.ylabel(\"Max Temperature (F)\")\n",
    "plt.xlabel(\"Latitude\")\n",
    "plt.grid(True)\n",
    "\n",
    "# Save the figure.\n",
    "plt.savefig(\"weather_data/Fig1.png\")\n",
    "\n",
    "# Show plot.\n",
    "plt.show()"
   ]
  },
  {
   "cell_type": "code",
   "execution_count": 181,
   "id": "1eefe89e",
   "metadata": {},
   "outputs": [
    {
     "data": {
      "image/png": "[encoded data removed]",
      "text/plain": [
       "<Figure size 432x288 with 1 Axes>"
      ]
     },
     "metadata": {
      "needs_background": "light"
     },
     "output_type": "display_data"
    }
   ],
   "source": [
    "# Build the scatter plots for latitude vs. humidity.\n",
    "plt.scatter(lats,\n",
    "            humidity,\n",
    "            edgecolor=\"black\", linewidths=1, marker=\"o\",\n",
    "            alpha=0.8, label=\"Cities\")\n",
    "\n",
    "# Incorporate the other graph properties.\n",
    "plt.title(f\"City Latitude vs. Humidity \"+ time.strftime(\"%x\"))\n",
    "plt.ylabel(\"Humidity (%)\")\n",
    "plt.xlabel(\"Latitude\")\n",
    "plt.grid(True)\n",
    "# Save the figure.\n",
    "plt.savefig(\"weather_data/Fig2.png\")\n",
    "# Show plot.\n",
    "plt.show()"
   ]
  },
  {
   "cell_type": "code",
   "execution_count": 182,
   "id": "2def0388",
   "metadata": {},
   "outputs": [
    {
     "data": {
      "image/png": "[encoded data removed]",
      "text/plain": [
       "<Figure size 432x288 with 1 Axes>"
      ]
     },
     "metadata": {
      "needs_background": "light"
     },
     "output_type": "display_data"
    }
   ],
   "source": [
    "# Build the scatter plots for latitude vs. cloudiness.\n",
    "plt.scatter(lats,\n",
    "            cloudiness,\n",
    "            edgecolor=\"black\", linewidths=1, marker=\"o\",\n",
    "            alpha=0.8, label=\"Cities\")\n",
    "\n",
    "# Incorporate the other graph properties.\n",
    "plt.title(f\"City Latitude vs. Cloudiness (%) \"+ time.strftime(\"%x\"))\n",
    "plt.ylabel(\"Cloudiness (%)\")\n",
    "plt.xlabel(\"Latitude\")\n",
    "plt.grid(True)\n",
    "# Save the figure.\n",
    "plt.savefig(\"weather_data/Fig3.png\")\n",
    "# Show plot.\n",
    "plt.show()"
   ]
  },
  {
   "cell_type": "code",
   "execution_count": 183,
   "id": "83855da2",
   "metadata": {},
   "outputs": [
    {
     "data": {
      "image/png": "[encoded data removed]",
      "text/plain": [
       "<Figure size 432x288 with 1 Axes>"
      ]
     },
     "metadata": {
      "needs_background": "light"
     },
     "output_type": "display_data"
    }
   ],
   "source": [
    "# Build the scatter plots for latitude vs. wind speed.\n",
    "plt.scatter(lats,\n",
    "            wind_speed,\n",
    "            edgecolor=\"black\", linewidths=1, marker=\"o\",\n",
    "            alpha=0.8, label=\"Cities\")\n",
    "\n",
    "# Incorporate the other graph properties.\n",
    "plt.title(f\"City Latitude vs. Wind Speed \"+ time.strftime(\"%x\"))\n",
    "plt.ylabel(\"Wind Speed (mph)\")\n",
    "plt.xlabel(\"Latitude\")\n",
    "plt.grid(True)\n",
    "# Save the figure.\n",
    "plt.savefig(\"weather_data/Fig4.png\")\n",
    "# Show plot.\n",
    "plt.show()"
   ]
  },
  {
   "cell_type": "code",
   "execution_count": 184,
   "id": "58e6e428",
   "metadata": {},
   "outputs": [],
   "source": [
    "# Import linear regression from the SciPy stats module.\n",
    "from scipy.stats import linregress"
   ]
  },
  {
   "cell_type": "code",
   "execution_count": 185,
   "id": "c511c411",
   "metadata": {},
   "outputs": [],
   "source": [
    "# Create an equal number of latitudes and temperatures.\n",
    "lats = [42.5, 43.9, 8.1, 36.8, 79.9, 69.1, 25.7, 15.3, 12.7, 64.5]\n",
    "temps = [80.5, 75.3, 90.9, 90.0, 40.4, 62.3, 85.4, 79.6, 72.5, 72.0]"
   ]
  },
  {
   "cell_type": "code",
   "execution_count": 186,
   "id": "0eca1a9a",
   "metadata": {},
   "outputs": [
    {
     "name": "stdout",
     "output_type": "stream",
     "text": [
      "y = -0.45x + 92.94\n",
      "The p-value is: 0.011\n"
     ]
    }
   ],
   "source": [
    "# Perform linear regression.\n",
    "(slope, intercept, r_value, p_value, std_err) = linregress(lats, temps)\n",
    "# Get the equation of the line.\n",
    "line_eq = \"y = \" + str(round(slope,2)) + \"x + \" + str(round(intercept,2))\n",
    "print(line_eq)\n",
    "print(f\"The p-value is: {p_value:.3f}\")"
   ]
  },
  {
   "cell_type": "code",
   "execution_count": 187,
   "id": "fb4e1136",
   "metadata": {},
   "outputs": [],
   "source": [
    "# Calculate the regression line \"y values\" from the slope and intercept.\n",
    "regress_values = [(lat * slope + intercept) for lat in lats]"
   ]
  },
  {
   "cell_type": "code",
   "execution_count": 188,
   "id": "4f0a265b",
   "metadata": {},
   "outputs": [
    {
     "data": {
      "image/png": "[encoded data removed]",
      "text/plain": [
       "<Figure size 432x288 with 1 Axes>"
      ]
     },
     "metadata": {
      "needs_background": "light"
     },
     "output_type": "display_data"
    }
   ],
   "source": [
    "# Import Matplotlib.\n",
    "import matplotlib.pyplot as plt\n",
    "# Create a scatter plot of the x and y values.\n",
    "plt.scatter(lats,temps)\n",
    "# Plot the regression line with the x-values and the y coordinates based on the intercept and slope.\n",
    "plt.plot(lats,regress_values,\"r\")\n",
    "# Annotate the text for the line equation and add its coordinates.\n",
    "plt.annotate(line_eq, (10,40), fontsize=15, color=\"red\")\n",
    "plt.xlabel('Latitude')\n",
    "plt.ylabel('Temp')\n",
    "plt.show()"
   ]
  },
  {
   "cell_type": "code",
   "execution_count": 233,
   "id": "68b970f5",
   "metadata": {},
   "outputs": [],
   "source": [
    "# Create a function to create perform linear regression on the weather data\n",
    "# and plot a regression line and the equation with the data.\n",
    "def plot_linear_regression(x_values, y_values, title, y_label, text_coordinates):\n",
    "    # Perform linear regression.\n",
    "    (slope, intercept, r_value, p_value, std_err) = linregress(x_values, y_values)\n",
    "    print(f'p value is {p_value}')\n",
    "    print(f'r value is {r_value}')\n",
    "    # Calculate the regression line \"y values\" from the slope and intercept.\n",
    "    regress_values = x_values * slope + intercept\n",
    "\n",
    "    # Get the equation of the line.\n",
    "    line_eq = \"y = \" + str(round(slope,2)) + \"x + \" + str(round(intercept,2))\n",
    "\n",
    "    # Create a scatter plot of the x and y values.\n",
    "    plt.scatter(x_values,y_values)\n",
    "    # Plot the regression line with the x-values and the y coordinates based on the intercept and slope.\n",
    "    plt.plot(x_values,regress_values,\"r\")\n",
    "    # Annotate the text for the line equation and add its coordinates.\n",
    "    plt.annotate(line_eq, (text_coordinates[0],text_coordinates[1]), fontsize=15, color=\"red\")\n",
    "    plt.title(title)\n",
    "    plt.xlabel('Latitude')\n",
    "    plt.ylabel(y_label)\n",
    "    plt.show()"
   ]
  },
  {
   "cell_type": "code",
   "execution_count": 234,
   "id": "afe73b42",
   "metadata": {},
   "outputs": [
    {
     "data": {
      "text/html": [
       "<div>\n",
       "<style scoped>\n",
       "    .dataframe tbody tr th:only-of-type {\n",
       "        vertical-align: middle;\n",
       "    }\n",
       "\n",
       "    .dataframe tbody tr th {\n",
       "        vertical-align: top;\n",
       "    }\n",
       "\n",
       "    .dataframe thead th {\n",
       "        text-align: right;\n",
       "    }\n",
       "</style>\n",
       "<table border=\"1\" class=\"dataframe\">\n",
       "  <thead>\n",
       "    <tr style=\"text-align: right;\">\n",
       "      <th></th>\n",
       "      <th>City</th>\n",
       "      <th>Country</th>\n",
       "      <th>Date</th>\n",
       "      <th>Lat</th>\n",
       "      <th>Lng</th>\n",
       "      <th>Max Temp</th>\n",
       "      <th>Humidity</th>\n",
       "      <th>Cloudiness</th>\n",
       "      <th>Wind Speed</th>\n",
       "    </tr>\n",
       "  </thead>\n",
       "  <tbody>\n",
       "    <tr>\n",
       "      <th>3</th>\n",
       "      <td>Semme</td>\n",
       "      <td>FR</td>\n",
       "      <td>2022-04-02 02:24:12</td>\n",
       "      <td>46.1963</td>\n",
       "      <td>1.5007</td>\n",
       "      <td>30.61</td>\n",
       "      <td>97</td>\n",
       "      <td>100</td>\n",
       "      <td>12.17</td>\n",
       "    </tr>\n",
       "    <tr>\n",
       "      <th>5</th>\n",
       "      <td>Albany</td>\n",
       "      <td>US</td>\n",
       "      <td>2022-04-02 02:37:51</td>\n",
       "      <td>42.6001</td>\n",
       "      <td>-73.9662</td>\n",
       "      <td>36.23</td>\n",
       "      <td>64</td>\n",
       "      <td>90</td>\n",
       "      <td>5.99</td>\n",
       "    </tr>\n",
       "    <tr>\n",
       "      <th>7</th>\n",
       "      <td>Barrow</td>\n",
       "      <td>US</td>\n",
       "      <td>2022-04-02 02:35:37</td>\n",
       "      <td>71.2906</td>\n",
       "      <td>-156.7887</td>\n",
       "      <td>-2.18</td>\n",
       "      <td>65</td>\n",
       "      <td>0</td>\n",
       "      <td>18.41</td>\n",
       "    </tr>\n",
       "    <tr>\n",
       "      <th>9</th>\n",
       "      <td>Wajima</td>\n",
       "      <td>JP</td>\n",
       "      <td>2022-04-02 02:35:36</td>\n",
       "      <td>37.4000</td>\n",
       "      <td>136.9000</td>\n",
       "      <td>48.88</td>\n",
       "      <td>46</td>\n",
       "      <td>20</td>\n",
       "      <td>4.61</td>\n",
       "    </tr>\n",
       "    <tr>\n",
       "      <th>10</th>\n",
       "      <td>San Patricio</td>\n",
       "      <td>US</td>\n",
       "      <td>2022-04-02 02:38:11</td>\n",
       "      <td>28.0170</td>\n",
       "      <td>-97.5169</td>\n",
       "      <td>71.46</td>\n",
       "      <td>78</td>\n",
       "      <td>35</td>\n",
       "      <td>11.07</td>\n",
       "    </tr>\n",
       "  </tbody>\n",
       "</table>\n",
       "</div>"
      ],
      "text/plain": [
       "            City Country                 Date      Lat       Lng  Max Temp  \\\n",
       "3          Semme      FR  2022-04-02 02:24:12  46.1963    1.5007     30.61   \n",
       "5         Albany      US  2022-04-02 02:37:51  42.6001  -73.9662     36.23   \n",
       "7         Barrow      US  2022-04-02 02:35:37  71.2906 -156.7887     -2.18   \n",
       "9         Wajima      JP  2022-04-02 02:35:36  37.4000  136.9000     48.88   \n",
       "10  San Patricio      US  2022-04-02 02:38:11  28.0170  -97.5169     71.46   \n",
       "\n",
       "    Humidity  Cloudiness  Wind Speed  \n",
       "3         97         100       12.17  \n",
       "5         64          90        5.99  \n",
       "7         65           0       18.41  \n",
       "9         46          20        4.61  \n",
       "10        78          35       11.07  "
      ]
     },
     "execution_count": 234,
     "metadata": {},
     "output_type": "execute_result"
    }
   ],
   "source": [
    "city_data_df.loc[(city_data_df[\"Lat\"] >= 0)].head()"
   ]
  },
  {
   "cell_type": "code",
   "execution_count": 235,
   "id": "12e5f1dc",
   "metadata": {},
   "outputs": [],
   "source": [
    "# Create Northern and Southern Hemisphere DataFrames.\n",
    "northern_hemi_df = city_data_df.loc[(city_data_df[\"Lat\"] >= 0)]\n",
    "southern_hemi_df = city_data_df.loc[(city_data_df[\"Lat\"] < 0)]"
   ]
  },
  {
   "cell_type": "code",
   "execution_count": 236,
   "id": "4858e67d",
   "metadata": {},
   "outputs": [
    {
     "name": "stdout",
     "output_type": "stream",
     "text": [
      "p value is 9.534193448913016e-20\n",
      "r value is -0.9113932318940017\n"
     ]
    },
    {
     "data": {
      "image/png": "[encoded data removed]",
      "text/plain": [
       "<Figure size 432x288 with 1 Axes>"
      ]
     },
     "metadata": {
      "needs_background": "light"
     },
     "output_type": "display_data"
    }
   ],
   "source": [
    "# Linear regression on the Northern Hemisphere\n",
    "x_values = northern_hemi_df[\"Lat\"]\n",
    "y_values = northern_hemi_df[\"Max Temp\"]\n",
    "# Call the function.\n",
    "plot_linear_regression(x_values, y_values,\n",
    "                       'Linear Regression on the Northern Hemisphere \\\n",
    "                        for Maximum Temperature', 'Max Temp',(10,40))"
   ]
  },
  {
   "cell_type": "code",
   "execution_count": 237,
   "id": "d759b06b",
   "metadata": {},
   "outputs": [
    {
     "name": "stdout",
     "output_type": "stream",
     "text": [
      "p value is 5.110910897961443e-06\n",
      "r value is 0.7761796677713027\n"
     ]
    },
    {
     "data": {
      "image/png": "[encoded data removed]",
      "text/plain": [
       "<Figure size 432x288 with 1 Axes>"
      ]
     },
     "metadata": {
      "needs_background": "light"
     },
     "output_type": "display_data"
    }
   ],
   "source": [
    "# Linear regression on the Southern Hemisphere\n",
    "x_values = southern_hemi_df[\"Lat\"]\n",
    "y_values = southern_hemi_df[\"Max Temp\"]\n",
    "# Call the function.\n",
    "plot_linear_regression(x_values, y_values,\n",
    "                       'Linear Regression on the Southern Hemisphere \\\n",
    "                        for Maximum Temperature', 'Max Temp',(40,10))"
   ]
  },
  {
   "cell_type": "code",
   "execution_count": 238,
   "id": "875c9b80",
   "metadata": {},
   "outputs": [
    {
     "name": "stdout",
     "output_type": "stream",
     "text": [
      "p value is 0.28927797988576004\n",
      "r value is 0.15446334880465348\n"
     ]
    },
    {
     "data": {
      "image/png": "[encoded data removed]",
      "text/plain": [
       "<Figure size 432x288 with 1 Axes>"
      ]
     },
     "metadata": {
      "needs_background": "light"
     },
     "output_type": "display_data"
    }
   ],
   "source": [
    "# Linear regression on the Northern Hemisphere\n",
    "x_values = northern_hemi_df[\"Lat\"]\n",
    "y_values = northern_hemi_df[\"Humidity\"]\n",
    "# Call the function.\n",
    "plot_linear_regression(x_values, y_values,\n",
    "                       'Linear Regression on the Northern Hemisphere \\\n",
    "                        for % Humidity', '% Humidity',(40,10))"
   ]
  },
  {
   "cell_type": "code",
   "execution_count": 239,
   "id": "fe1f1ffc",
   "metadata": {},
   "outputs": [
    {
     "name": "stdout",
     "output_type": "stream",
     "text": [
      "p value is 0.05231220002609873\n",
      "r value is 0.39246932477233604\n"
     ]
    },
    {
     "data": {
      "image/png": "[encoded data removed]",
      "text/plain": [
       "<Figure size 432x288 with 1 Axes>"
      ]
     },
     "metadata": {
      "needs_background": "light"
     },
     "output_type": "display_data"
    }
   ],
   "source": [
    "# Linear regression on the Southern Hemisphere\n",
    "x_values = southern_hemi_df[\"Lat\"]\n",
    "y_values = southern_hemi_df[\"Humidity\"]\n",
    "# Call the function.\n",
    "plot_linear_regression(x_values, y_values,\n",
    "                       'Linear Regression on the Southern Hemisphere \\\n",
    "                        for % Humidity', '% Humidity',(-50,15))"
   ]
  },
  {
   "cell_type": "code",
   "execution_count": 243,
   "id": "8a745709",
   "metadata": {},
   "outputs": [
    {
     "name": "stdout",
     "output_type": "stream",
     "text": [
      "p value is 0.382840879973527\n",
      "r value is 0.1274483224119104\n"
     ]
    },
    {
     "data": {
      "image/png": "[encoded data removed]",
      "text/plain": [
       "<Figure size 432x288 with 1 Axes>"
      ]
     },
     "metadata": {
      "needs_background": "light"
     },
     "output_type": "display_data"
    }
   ],
   "source": [
    "# Linear regression on the Northern Hemisphere\n",
    "x_values = northern_hemi_df[\"Lat\"]\n",
    "y_values = northern_hemi_df[\"Cloudiness\"]\n",
    "# Call the function.\n",
    "plot_linear_regression(x_values, y_values,\n",
    "                       'Linear Regression on the Northern Hemisphere \\\n",
    "                        for  Cloudiness', 'Cloudiness',(40,50))"
   ]
  },
  {
   "cell_type": "code",
   "execution_count": 247,
   "id": "809e9785",
   "metadata": {},
   "outputs": [
    {
     "name": "stdout",
     "output_type": "stream",
     "text": [
      "p value is 0.7023150187136858\n",
      "r value is -0.05600244958138921\n"
     ]
    },
    {
     "data": {
      "image/png": "[encoded data removed]",
      "text/plain": [
       "<Figure size 432x288 with 1 Axes>"
      ]
     },
     "metadata": {
      "needs_background": "light"
     },
     "output_type": "display_data"
    }
   ],
   "source": [
    "x_values = northern_hemi_df[\"Lat\"]\n",
    "y_values = northern_hemi_df[\"Wind Speed\"]\n",
    "# Call the function.\n",
    "plot_linear_regression(x_values, y_values,\n",
    "                       'Linear Regression on the Northern Hemisphere \\\n",
    "                        for  Cloudiness', 'Cloudiness',(5,25))"
   ]
  },
  {
   "cell_type": "code",
   "execution_count": 249,
   "id": "d7d783bb",
   "metadata": {},
   "outputs": [
    {
     "name": "stdout",
     "output_type": "stream",
     "text": [
      "p value is 0.4395503526818614\n",
      "r value is -0.16185334351933853\n"
     ]
    },
    {
     "data": {
      "image/png": "[encoded data removed]",
      "text/plain": [
       "<Figure size 432x288 with 1 Axes>"
      ]
     },
     "metadata": {
      "needs_background": "light"
     },
     "output_type": "display_data"
    }
   ],
   "source": [
    "# Linear regression on the Southern Hemisphere\n",
    "x_values = southern_hemi_df[\"Lat\"]\n",
    "y_values = southern_hemi_df[\"Wind Speed\"]\n",
    "# Call the function.\n",
    "plot_linear_regression(x_values, y_values,\n",
    "                       'Linear Regression on the Southern Hemisphere \\\n",
    "                        for Wind Speed', 'Wind Speed',(-50,35))"
   ]
  },
  {
   "cell_type": "code",
   "execution_count": null,
   "id": "493a4435",
   "metadata": {},
   "outputs": [],
   "source": []
  }
 ],
 "metadata": {
  "kernelspec": {
   "display_name": "PythonData",
   "language": "python",
   "name": "pythondata"
  },
  "language_info": {
   "codemirror_mode": {
    "name": "ipython",
    "version": 3
   },
   "file_extension": ".py",
   "mimetype": "text/x-python",
   "name": "python",
   "nbconvert_exporter": "python",
   "pygments_lexer": "ipython3",
   "version": "3.7.11"
  }
 },
 "nbformat": 4,
 "nbformat_minor": 5
}
